{
 "cells": [
  {
   "cell_type": "code",
   "execution_count": 2,
   "id": "fffed15a",
   "metadata": {},
   "outputs": [
    {
     "name": "stdout",
     "output_type": "stream",
     "text": [
      "Data saved to stack_overflow_questions.csv file\n"
     ]
    }
   ],
   "source": [
    "import requests\n",
    "import json\n",
    "import csv\n",
    "\n",
    "# set up the API request\n",
    "site = \"stackoverflow\"\n",
    "url = f\"https://api.stackexchange.com/2.3/questions?order=desc&sort=votes&site={site}\"\n",
    "headers = {\"Content-Type\": \"application/json\"}\n",
    "\n",
    "# make the API request\n",
    "response = requests.get(url, headers=headers)\n",
    "\n",
    "# handle the API response\n",
    "if response.status_code == 200:\n",
    "    data = json.loads(response.text)\n",
    "    top_questions = data['items'][:50]  # Get the top 50 questions\n",
    "    \n",
    "    # create a list to store the data\n",
    "    question_data = []\n",
    "\n",
    "    # iterate over each question and fetch the required data\n",
    "    for question in top_questions:\n",
    "        title = question['title']\n",
    "        tags = \",\".join(question['tags'])\n",
    "        \n",
    "        # add the data to the list\n",
    "        question_data.append([title, tags])\n",
    "\n",
    "    # save the data to a CSV file\n",
    "    with open(\"downloads/stack_overflow_questions.csv\", \"w\", newline=\"\") as csv_file:\n",
    "        writer = csv.writer(csv_file)\n",
    "        writer.writerow([\"Title\", \"Tags\"])\n",
    "        writer.writerows(question_data)\n",
    "\n",
    "    print(\"Data saved to stack_overflow_questions.csv file\")\n",
    "else:\n",
    "    print(\"Error occurred while fetching the data\")\n"
   ]
  },
  {
   "cell_type": "code",
   "execution_count": null,
   "id": "245cfd4b",
   "metadata": {},
   "outputs": [],
   "source": []
  }
 ],
 "metadata": {
  "kernelspec": {
   "display_name": "Python 3 (ipykernel)",
   "language": "python",
   "name": "python3"
  },
  "language_info": {
   "codemirror_mode": {
    "name": "ipython",
    "version": 3
   },
   "file_extension": ".py",
   "mimetype": "text/x-python",
   "name": "python",
   "nbconvert_exporter": "python",
   "pygments_lexer": "ipython3",
   "version": "3.10.9"
  }
 },
 "nbformat": 4,
 "nbformat_minor": 5
}
